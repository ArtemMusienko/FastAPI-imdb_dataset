{
  "nbformat": 4,
  "nbformat_minor": 0,
  "metadata": {
    "colab": {
      "provenance": [],
      "gpuType": "T4"
    },
    "kernelspec": {
      "name": "python3",
      "display_name": "Python 3"
    },
    "language_info": {
      "name": "python"
    },
    "accelerator": "GPU"
  },
  "cells": [
    {
      "cell_type": "markdown",
      "source": [
        "# Решение задачи:"
      ],
      "metadata": {
        "id": "X8OiNFq9ay29"
      }
    },
    {
      "cell_type": "markdown",
      "source": [
        "Установим библиотеку FastAPI и вспомогательные компоненты:"
      ],
      "metadata": {
        "id": "UyAwiRJVv9sl"
      }
    },
    {
      "cell_type": "code",
      "source": [
        "!pip install fastapi #установим FastAPI\n",
        "!pip install uvicorn #установим ASGI-сервер\n",
        "!pip install python-multipart #необходимая зависимость для FastAPI (для работы с данными отправленных форм на сайте)"
      ],
      "metadata": {
        "colab": {
          "base_uri": "https://localhost:8080/"
        },
        "id": "e5XdAkccv-U9",
        "outputId": "2a7d3d4a-67b4-4bf2-a1b1-281228aecaa8"
      },
      "execution_count": null,
      "outputs": [
        {
          "output_type": "stream",
          "name": "stdout",
          "text": [
            "Requirement already satisfied: fastapi in /usr/local/lib/python3.11/dist-packages (0.115.14)\n",
            "Requirement already satisfied: starlette<0.47.0,>=0.40.0 in /usr/local/lib/python3.11/dist-packages (from fastapi) (0.46.2)\n",
            "Requirement already satisfied: pydantic!=1.8,!=1.8.1,!=2.0.0,!=2.0.1,!=2.1.0,<3.0.0,>=1.7.4 in /usr/local/lib/python3.11/dist-packages (from fastapi) (2.11.7)\n",
            "Requirement already satisfied: typing-extensions>=4.8.0 in /usr/local/lib/python3.11/dist-packages (from fastapi) (4.14.0)\n",
            "Requirement already satisfied: annotated-types>=0.6.0 in /usr/local/lib/python3.11/dist-packages (from pydantic!=1.8,!=1.8.1,!=2.0.0,!=2.0.1,!=2.1.0,<3.0.0,>=1.7.4->fastapi) (0.7.0)\n",
            "Requirement already satisfied: pydantic-core==2.33.2 in /usr/local/lib/python3.11/dist-packages (from pydantic!=1.8,!=1.8.1,!=2.0.0,!=2.0.1,!=2.1.0,<3.0.0,>=1.7.4->fastapi) (2.33.2)\n",
            "Requirement already satisfied: typing-inspection>=0.4.0 in /usr/local/lib/python3.11/dist-packages (from pydantic!=1.8,!=1.8.1,!=2.0.0,!=2.0.1,!=2.1.0,<3.0.0,>=1.7.4->fastapi) (0.4.1)\n",
            "Requirement already satisfied: anyio<5,>=3.6.2 in /usr/local/lib/python3.11/dist-packages (from starlette<0.47.0,>=0.40.0->fastapi) (4.9.0)\n",
            "Requirement already satisfied: idna>=2.8 in /usr/local/lib/python3.11/dist-packages (from anyio<5,>=3.6.2->starlette<0.47.0,>=0.40.0->fastapi) (3.10)\n",
            "Requirement already satisfied: sniffio>=1.1 in /usr/local/lib/python3.11/dist-packages (from anyio<5,>=3.6.2->starlette<0.47.0,>=0.40.0->fastapi) (1.3.1)\n",
            "Requirement already satisfied: uvicorn in /usr/local/lib/python3.11/dist-packages (0.35.0)\n",
            "Requirement already satisfied: click>=7.0 in /usr/local/lib/python3.11/dist-packages (from uvicorn) (8.2.1)\n",
            "Requirement already satisfied: h11>=0.8 in /usr/local/lib/python3.11/dist-packages (from uvicorn) (0.16.0)\n",
            "Requirement already satisfied: python-multipart in /usr/local/lib/python3.11/dist-packages (0.0.20)\n"
          ]
        }
      ]
    },
    {
      "cell_type": "markdown",
      "source": [
        "Этот код представляет собой **REST API** сервис на базе **FastAPI** для анализа тональности отзывов с использованием нейросетевой модели **Keras**. В начале кода происходит загрузка датасета **IMDb**, подготовка данных через векторизацию **bag-of-words** и нормализацию. Обучается нейросеть с регуляризацией **L2**, **dropout** и **batch normalization**, после чего модель сохраняется в файл *imdb_model.h5*.\n",
        "\n",
        "Создано **FastAPI** приложение с расширенной метадатой: название, описание, версия, контактная информация и лицензия **Apache 2.0**. Определены два класса Pydantic: `ReviewCreate` (с текстом отзыва и заметкой) и `ReviewItem` (наследуется от `ReviewCreate`, добавляет поля `prediction` и `sentiment_score`). Для временного хранения данных используется словарь `datastore`, а для генерации уникальных ID — функция `generate_random_id`.\n",
        "\n",
        "API предоставляет следующие эндпоинты:\n",
        "\n",
        "**/status** — проверка состояния сервиса с метриками точности на тестовых данных;\n",
        "\n",
        "**/classes** — информация о классах тональности (positive/negative);\n",
        "\n",
        "**CRUD-операции** через /reviews/ (добавление, получение, обновление и удаление записей).\n",
        "\n",
        "При создании и обновлении записей модель автоматически рассчитывает тональность отзыва и его уверенность, сохраняя результаты в `datastore`. Все эндпоинты снабжены тегами, подробными описаниями, примерами запросов/ответов и обработкой ошибок (например, **HTTPException** с кодом **404** при отсутствии записи).\n",
        "\n",
        "Сервис возвращает данные в формате **JSON** через `JSONResponse`, используя `jsonable_encoder` для корректного преобразования объектов. Для документации автоматически генерируются **Swagger** и **ReDoc** интерфейсы с описанием параметров, статусов и примеров использования. Модель возвращает вероятность принадлежности к положительному классу, которая интерпретируется как уверенность в предсказании (например, 0.03 → 97% уверенности в негативном отзыве)."
      ],
      "metadata": {
        "id": "gW0GpNM-RkUA"
      }
    },
    {
      "cell_type": "code",
      "source": [
        "%%writefile main.py\n",
        "\n",
        "from fastapi import FastAPI, HTTPException\n",
        "from pydantic import BaseModel, Field\n",
        "import numpy as np\n",
        "from tensorflow.keras.datasets import imdb\n",
        "from tensorflow.keras.models import Sequential, load_model\n",
        "from tensorflow.keras.layers import Dense, Dropout, BatchNormalization\n",
        "from tensorflow.keras.optimizers import Adam\n",
        "from tensorflow.keras.callbacks import EarlyStopping, ReduceLROnPlateau\n",
        "from tensorflow.keras.regularizers import l2\n",
        "from sklearn.utils.class_weight import compute_class_weight\n",
        "import secrets\n",
        "import string\n",
        "\n",
        "#параметры модели\n",
        "max_words = 10000  #размер словаря\n",
        "model_path = \"imdb_model.h5\"\n",
        "\n",
        "#загрузка данных\n",
        "(x_train, y_train), (x_test, y_test) = imdb.load_data(num_words=max_words)\n",
        "\n",
        "#функция векторизации\n",
        "def vectorize_sequences(sequences, dimension=max_words):\n",
        "    results = np.zeros((len(sequences), dimension))\n",
        "    for i, sequence in enumerate(sequences):\n",
        "        results[i, sequence] = 1.\n",
        "    return results\n",
        "\n",
        "#предобработка данных\n",
        "x_train = vectorize_sequences(x_train)\n",
        "x_test = vectorize_sequences(x_test)\n",
        "y_train = np.asarray(y_train).astype('float32')\n",
        "y_test = np.asarray(y_test).astype('float32')\n",
        "\n",
        "#нормализация\n",
        "x_train = x_train / x_train.max()\n",
        "x_test = x_test / x_test.max()\n",
        "\n",
        "#веса классов\n",
        "class_weights = compute_class_weight('balanced', classes=np.unique(y_train), y=y_train)\n",
        "class_weights = dict(enumerate(class_weights))\n",
        "\n",
        "#создание модели\n",
        "model = Sequential([\n",
        "    Dense(256, activation='relu', kernel_regularizer=l2(0.002), input_shape=(max_words,)),\n",
        "    BatchNormalization(),\n",
        "    Dropout(0.7),\n",
        "    Dense(128, activation='relu', kernel_regularizer=l2(0.002)),\n",
        "    BatchNormalization(),\n",
        "    Dropout(0.6),\n",
        "    Dense(64, activation='relu', kernel_regularizer=l2(0.002)),\n",
        "    BatchNormalization(),\n",
        "    Dropout(0.5),\n",
        "    Dense(32, activation='relu'),\n",
        "    BatchNormalization(),\n",
        "    Dense(1, activation='sigmoid')\n",
        "])\n",
        "\n",
        "#компиляция модели\n",
        "optimizer = Adam(learning_rate=0.0002)\n",
        "model.compile(optimizer=optimizer, loss='binary_crossentropy', metrics=['accuracy'])\n",
        "\n",
        "#callbacks\n",
        "early_stopping = EarlyStopping(monitor='val_accuracy', patience=10, restore_best_weights=True)\n",
        "reduce_lr = ReduceLROnPlateau(monitor='val_loss', factor=0.3, patience=5, min_lr=1e-6)\n",
        "\n",
        "#обучение модели\n",
        "history = model.fit(\n",
        "    x_train, y_train,\n",
        "    epochs=80,\n",
        "    batch_size=128,\n",
        "    validation_split=0.2,\n",
        "    class_weight=class_weights,\n",
        "    callbacks=[early_stopping, reduce_lr],\n",
        "    verbose=1\n",
        ")\n",
        "\n",
        "model.save(model_path) #сохранение модели\n",
        "\n",
        "model = load_model(model_path)#загрузка модели\n",
        "\n",
        "#global variables для метрик\n",
        "GLOBAL_X_TEST = x_test\n",
        "GLOBAL_Y_TEST = y_test\n",
        "\n",
        "#информация о классах\n",
        "CLASS_INFO = {\n",
        "    0: {\"sentiment\": \"negative\", \"description\": \"Негативный отзыв\"},\n",
        "    1: {\"sentiment\": \"positive\", \"description\": \"Позитивный отзыв\"}\n",
        "}\n",
        "\n",
        "#FastAPI приложение\n",
        "app = FastAPI(\n",
        "    title=\"IMDb Sentiment Analysis API\",\n",
        "    description=\"REST API для анализа тональности отзывов\",\n",
        "    version=\"1.0.0\",\n",
        "    contact={\n",
        "        \"name\": \"Support\",\n",
        "        \"email\": \"temich\",\n",
        "    },\n",
        "    license_info={\n",
        "        \"name\": \"Apache 2.0\",\n",
        "        \"url\": \"https://www.apache.org/licenses/LICENSE-2.0.html \"\n",
        "    }\n",
        ")\n",
        "\n",
        "#модели данных\n",
        "class ReviewCreate(BaseModel):\n",
        "    text: str = Field(..., example=\"This movie was terrible!\", description=\"Текст отзыва\")\n",
        "    note: str = Field(..., example=\"Sample review\", description=\"Заметка об отзыве\")\n",
        "\n",
        "class ReviewItem(ReviewCreate):\n",
        "    prediction: str\n",
        "    sentiment_score: float\n",
        "\n",
        "\n",
        "datastore = {} #временное хранилище\n",
        "\n",
        "def generate_random_id(length=8):\n",
        "    characters = string.ascii_letters + string.digits\n",
        "    return ''.join(secrets.choice(characters) for _ in range(length))\n",
        "\n",
        "\n",
        "@app.get(\"/status\",\n",
        "         tags=[\"Service Monitoring\"],\n",
        "         summary=\"Проверка состояния сервиса\",\n",
        "         description=\"Возвращает текущий статус сервиса и информацию о модели и точности\")\n",
        "def get_status():\n",
        "    predictions = (model.predict(GLOBAL_X_TEST) > 0.5).astype(\"int32\")\n",
        "    accuracy = np.mean(predictions.flatten() == GLOBAL_Y_TEST)\n",
        "    return {\n",
        "        \"status\": \"OK\",\n",
        "        \"model_type\": \"Keras Sequential\",\n",
        "        \"classes\": list(CLASS_INFO[0].values()),\n",
        "        \"accuracy\": float(accuracy),\n",
        "        \"description\": \"FastAPI сервис для анализа тональности отзывов\"\n",
        "    }\n",
        "\n",
        "\n",
        "@app.get(\"/classes\",\n",
        "         tags=[\"Classification Info\"],\n",
        "         summary=\"Получить информацию о классах\",\n",
        "         description=\"Возвращает детальную информацию о классах тональности\")\n",
        "def get_classes():\n",
        "    return CLASS_INFO\n",
        "\n",
        "\n",
        "@app.post(\"/reviews/\",\n",
        "          tags=[\"CRUD\"],\n",
        "          status_code=201,\n",
        "          summary=\"Добавить новый отзыв\",\n",
        "          description=\"Принимает текст отзыва, сохраняет с уникальным ID и предсказанием\")\n",
        "def create_item(data: ReviewCreate):\n",
        "    while True:\n",
        "        item_id = generate_random_id()\n",
        "        if item_id not in datastore:\n",
        "            break\n",
        "\n",
        "    #обработка текста\n",
        "    word_index = imdb.get_word_index()\n",
        "    text_sequence = [[word_index[word] + 3 if word in word_index else 2 for word in data.text.split()]]\n",
        "    text_vector = vectorize_sequences(text_sequence)\n",
        "    text_vector = text_vector / text_vector.max()\n",
        "\n",
        "    #получение предсказания\n",
        "    prediction = model.predict(text_vector)[0][0]\n",
        "    sentiment_class = int(round(prediction))\n",
        "    confidence = float(prediction) if sentiment_class == 1 else 1 - float(prediction)\n",
        "\n",
        "    item = ReviewItem(\n",
        "        **data.dict(),\n",
        "        prediction=CLASS_INFO[sentiment_class][\"sentiment\"],\n",
        "        sentiment_score=confidence\n",
        "    )\n",
        "\n",
        "    datastore[item_id] = item\n",
        "    return {\"id\": item_id, **item.dict()}\n",
        "\n",
        "\n",
        "@app.get(\"/reviews/\",\n",
        "         tags=[\"CRUD\"],\n",
        "         summary=\"Получить все отзывы\",\n",
        "         description=\"Возвращает список всех сохраненных отзывов\")\n",
        "def get_all_items():\n",
        "    return {\n",
        "        \"count\": len(datastore),\n",
        "        \"items\": [{\"id\": id, **item.dict()} for id, item in datastore.items()]\n",
        "    }\n",
        "\n",
        "\n",
        "@app.get(\"/reviews/{item_id}\",\n",
        "         tags=[\"CRUD\"],\n",
        "         summary=\"Получить отзыв по ID\",\n",
        "         description=\"Возвращает информацию о конкретном отзыве\")\n",
        "def read_item(item_id: str):\n",
        "    if item_id not in datastore:\n",
        "        raise HTTPException(status_code=404, detail=\"Item не найден\")\n",
        "    return {\"id\": item_id, **datastore[item_id].dict()}\n",
        "\n",
        "\n",
        "@app.put(\"/reviews/{item_id}\",\n",
        "         tags=[\"CRUD\"],\n",
        "         summary=\"Обновить отзыв\",\n",
        "         description=\"Обновляет данные отзыва по ID\")\n",
        "def update_item(item_id: str, data: ReviewCreate):\n",
        "    if item_id not in datastore:\n",
        "        raise HTTPException(status_code=404, detail=\"Item не найден\")\n",
        "\n",
        "    #обработка текста\n",
        "    word_index = imdb.get_word_index()\n",
        "    text_sequence = [[word_index[word] + 3 if word in word_index else 2 for word in data.text.split()]]\n",
        "    text_vector = vectorize_sequences(text_sequence)\n",
        "    text_vector = text_vector / text_vector.max()\n",
        "\n",
        "    #получение предсказания\n",
        "    prediction = model.predict(text_vector)[0][0]\n",
        "    sentiment_class = int(round(prediction))\n",
        "    confidence = float(prediction) if sentiment_class == 1 else 1 - float(prediction)\n",
        "\n",
        "    updated_item = ReviewItem(\n",
        "        **data.dict(),\n",
        "        prediction=CLASS_INFO[sentiment_class][\"sentiment\"],\n",
        "        sentiment_score=confidence\n",
        "    )\n",
        "\n",
        "    datastore[item_id] = updated_item\n",
        "    return {\"id\": item_id, **updated_item.dict()}\n",
        "\n",
        "\n",
        "@app.delete(\"/reviews/{item_id}\",\n",
        "            tags=[\"CRUD\"],\n",
        "            summary=\"Удалить отзыв\",\n",
        "            description=\"Удаляет отзыв по ID\")\n",
        "def delete_item(item_id: str):\n",
        "    if item_id not in datastore:\n",
        "        raise HTTPException(status_code=404, detail=\"Item не найден\")\n",
        "    del datastore[item_id]\n",
        "    return {\"message\": \"Item успешно удален\"}"
      ],
      "metadata": {
        "colab": {
          "base_uri": "https://localhost:8080/"
        },
        "id": "n0tgWGGWN9L7",
        "outputId": "fd285869-511c-4d47-fdc8-5b0bc5aaab4a"
      },
      "execution_count": null,
      "outputs": [
        {
          "output_type": "stream",
          "name": "stdout",
          "text": [
            "Overwriting main.py\n"
          ]
        }
      ]
    },
    {
      "cell_type": "markdown",
      "source": [
        "`!pkill -f uvicorn` - команда принудительно завершает все процессы **uvicorn** (сервер **FastAPI**) на системе.\n",
        "\n",
        "`nohup` и `&` - прописываются для запуска процесса в фоне (чтобы не блокировать **Colab**).\n",
        "\n",
        "Параметр `--reload` позволяет автоматически перезапускать uvicorn при изменениях в файле **main.py**."
      ],
      "metadata": {
        "id": "Hs9nOI2YZSJf"
      }
    },
    {
      "cell_type": "code",
      "source": [
        "!pkill -f uvicorn\n",
        "!nohup uvicorn main:app --reload &"
      ],
      "metadata": {
        "colab": {
          "base_uri": "https://localhost:8080/"
        },
        "id": "OPEr4xyCx4Bj",
        "outputId": "1193c9fb-a998-4c11-b50b-ce0d783155cf"
      },
      "execution_count": null,
      "outputs": [
        {
          "output_type": "stream",
          "name": "stdout",
          "text": [
            "nohup: appending output to 'nohup.out'\n"
          ]
        }
      ]
    },
    {
      "cell_type": "markdown",
      "source": [
        "Посмотрим содержимое файла nohup.out (логи работы фонового процесса) и убедимся в корректности работы:"
      ],
      "metadata": {
        "id": "cFL5X79eRosU"
      }
    },
    {
      "cell_type": "code",
      "source": [
        "!cat nohup.out"
      ],
      "metadata": {
        "colab": {
          "base_uri": "https://localhost:8080/"
        },
        "id": "nB6V0wJ-yF89",
        "outputId": "0357f463-79f6-445b-bddb-1da7bbbec9e3"
      },
      "execution_count": null,
      "outputs": [
        {
          "output_type": "stream",
          "name": "stdout",
          "text": [
            "INFO:     Will watch for changes in these directories: ['/content']\n",
            "INFO:     Uvicorn running on http://127.0.0.1:8000 (Press CTRL+C to quit)\n",
            "INFO:     Started reloader process [1335] using StatReload\n"
          ]
        }
      ]
    },
    {
      "cell_type": "markdown",
      "source": [
        "Ищем все запущенные процессы uvicorn (сервер FastAPI) и показывает их статус, чтобы убедиться в работе сервера:"
      ],
      "metadata": {
        "id": "mFfMF1wJRpDF"
      }
    },
    {
      "cell_type": "code",
      "source": [
        "!ps aux | grep uvicorn"
      ],
      "metadata": {
        "colab": {
          "base_uri": "https://localhost:8080/"
        },
        "id": "vO0UMniocb0K",
        "outputId": "fbcdac4e-84ca-4904-aa3d-caa49707ad5d"
      },
      "execution_count": null,
      "outputs": [
        {
          "output_type": "stream",
          "name": "stdout",
          "text": [
            "root        1335  9.0  0.1  35152 25512 ?        S    17:51   0:00 /usr/bin/python3 /usr/local/bin/uvicorn main:app --reload\n",
            "root        1349  0.0  0.0   7376  3492 ?        S    17:51   0:00 /bin/bash -c ps aux | grep uvicorn\n",
            "root        1351  0.0  0.0   6484  2356 ?        S    17:51   0:00 grep uvicorn\n"
          ]
        }
      ]
    },
    {
      "cell_type": "markdown",
      "source": [
        "Дополнительно проверим, жив ли сервер (аналог \"пинга\") узнав, что эндпоинт `/status` возвращает ожидаемый результат:"
      ],
      "metadata": {
        "id": "h0y1F5_ORp5D"
      }
    },
    {
      "cell_type": "code",
      "source": [
        "!curl -s http://localhost:8000/status | grep \"OK\""
      ],
      "metadata": {
        "id": "THU3PcbXct1U"
      },
      "execution_count": null,
      "outputs": []
    },
    {
      "cell_type": "markdown",
      "source": [
        "Эта команда открывает публичный URL для нашего локального **FastAPI-сервера** (на localhost:8000) через сервис **localhost.run**:"
      ],
      "metadata": {
        "id": "cc3xWKfcRqQr"
      }
    },
    {
      "cell_type": "code",
      "source": [
        "!ssh -o \"StrictHostKeyChecking no\" -R 80:localhost:8000 nokey@localhost.run"
      ],
      "metadata": {
        "id": "q6sIQr6GyKcJ",
        "colab": {
          "base_uri": "https://localhost:8080/"
        },
        "outputId": "e6e98e96-c1b4-4a6d-8b24-2c8a130af050"
      },
      "execution_count": null,
      "outputs": [
        {
          "output_type": "stream",
          "name": "stdout",
          "text": [
            "Warning: Permanently added 'localhost.run' (RSA) to the list of known hosts.\n",
            "\n",
            "===============================================================================\n",
            "Welcome to localhost.run!\n",
            "\n",
            "Follow your favourite reverse tunnel at [https://twitter.com/localhost_run].\n",
            "\n",
            "To set up and manage custom domains go to https://admin.localhost.run/\n",
            "\n",
            "More details on custom domains (and how to enable subdomains of your custom\n",
            "domain) at https://localhost.run/docs/custom-domains\n",
            "\n",
            "If you get a permission denied error check the faq for how to connect with a key or\n",
            "create a free tunnel without a key at [http://localhost:3000/docs/faq#generating-an-ssh-key].\n",
            "\n",
            "To explore using localhost.run visit the documentation site:\n",
            "https://localhost.run/docs/\n",
            "\n",
            "===============================================================================\n",
            "\n",
            "** your connection id is 2f841c99-cf3a-4aee-8b7f-5bf06747f95b, please mention it if you send me a message about an issue. **\n",
            "\n",
            "authenticated as anonymous user\n",
            "a15c8819ab57a3.lhr.life tunneled with tls termination, https://a15c8819ab57a3.lhr.life\n",
            "create an account and add your key for a longer lasting domain name. see https://localhost.run/docs/forever-free/ for more information.\n",
            "Open your tunnel address on your mobile with this QR:\n",
            "\n",
            "\u001b[7m  \u001b[0m\u001b[7m  \u001b[0m\u001b[7m  \u001b[0m\u001b[7m  \u001b[0m\u001b[7m  \u001b[0m\u001b[7m  \u001b[0m\u001b[7m  \u001b[0m\u001b[7m  \u001b[0m\u001b[7m  \u001b[0m\u001b[7m  \u001b[0m\u001b[7m  \u001b[0m\u001b[7m  \u001b[0m\u001b[7m  \u001b[0m\u001b[7m  \u001b[0m\u001b[7m  \u001b[0m\u001b[7m  \u001b[0m\u001b[7m  \u001b[0m\u001b[7m  \u001b[0m\u001b[7m  \u001b[0m\u001b[7m  \u001b[0m\u001b[7m  \u001b[0m\u001b[7m  \u001b[0m\u001b[7m  \u001b[0m\u001b[7m  \u001b[0m\u001b[7m  \u001b[0m\u001b[7m  \u001b[0m\u001b[7m  \u001b[0m\n",
            "\u001b[7m  \u001b[0m\u001b[49m  \u001b[0m\u001b[49m  \u001b[0m\u001b[49m  \u001b[0m\u001b[49m  \u001b[0m\u001b[49m  \u001b[0m\u001b[49m  \u001b[0m\u001b[49m  \u001b[0m\u001b[7m  \u001b[0m\u001b[7m  \u001b[0m\u001b[7m  \u001b[0m\u001b[49m  \u001b[0m\u001b[7m  \u001b[0m\u001b[7m  \u001b[0m\u001b[49m  \u001b[0m\u001b[7m  \u001b[0m\u001b[7m  \u001b[0m\u001b[49m  \u001b[0m\u001b[7m  \u001b[0m\u001b[49m  \u001b[0m\u001b[49m  \u001b[0m\u001b[49m  \u001b[0m\u001b[49m  \u001b[0m\u001b[49m  \u001b[0m\u001b[49m  \u001b[0m\u001b[49m  \u001b[0m\u001b[7m  \u001b[0m\n",
            "\u001b[7m  \u001b[0m\u001b[49m  \u001b[0m\u001b[7m  \u001b[0m\u001b[7m  \u001b[0m\u001b[7m  \u001b[0m\u001b[7m  \u001b[0m\u001b[7m  \u001b[0m\u001b[49m  \u001b[0m\u001b[7m  \u001b[0m\u001b[49m  \u001b[0m\u001b[49m  \u001b[0m\u001b[49m  \u001b[0m\u001b[7m  \u001b[0m\u001b[7m  \u001b[0m\u001b[7m  \u001b[0m\u001b[7m  \u001b[0m\u001b[49m  \u001b[0m\u001b[7m  \u001b[0m\u001b[7m  \u001b[0m\u001b[49m  \u001b[0m\u001b[7m  \u001b[0m\u001b[7m  \u001b[0m\u001b[7m  \u001b[0m\u001b[7m  \u001b[0m\u001b[7m  \u001b[0m\u001b[49m  \u001b[0m\u001b[7m  \u001b[0m\n",
            "\u001b[7m  \u001b[0m\u001b[49m  \u001b[0m\u001b[7m  \u001b[0m\u001b[49m  \u001b[0m\u001b[49m  \u001b[0m\u001b[49m  \u001b[0m\u001b[7m  \u001b[0m\u001b[49m  \u001b[0m\u001b[7m  \u001b[0m\u001b[49m  \u001b[0m\u001b[7m  \u001b[0m\u001b[7m  \u001b[0m\u001b[7m  \u001b[0m\u001b[7m  \u001b[0m\u001b[49m  \u001b[0m\u001b[7m  \u001b[0m\u001b[49m  \u001b[0m\u001b[49m  \u001b[0m\u001b[7m  \u001b[0m\u001b[49m  \u001b[0m\u001b[7m  \u001b[0m\u001b[49m  \u001b[0m\u001b[49m  \u001b[0m\u001b[49m  \u001b[0m\u001b[7m  \u001b[0m\u001b[49m  \u001b[0m\u001b[7m  \u001b[0m\n",
            "\u001b[7m  \u001b[0m\u001b[49m  \u001b[0m\u001b[7m  \u001b[0m\u001b[49m  \u001b[0m\u001b[49m  \u001b[0m\u001b[49m  \u001b[0m\u001b[7m  \u001b[0m\u001b[49m  \u001b[0m\u001b[7m  \u001b[0m\u001b[7m  \u001b[0m\u001b[49m  \u001b[0m\u001b[7m  \u001b[0m\u001b[7m  \u001b[0m\u001b[49m  \u001b[0m\u001b[7m  \u001b[0m\u001b[49m  \u001b[0m\u001b[7m  \u001b[0m\u001b[49m  \u001b[0m\u001b[7m  \u001b[0m\u001b[49m  \u001b[0m\u001b[7m  \u001b[0m\u001b[49m  \u001b[0m\u001b[49m  \u001b[0m\u001b[49m  \u001b[0m\u001b[7m  \u001b[0m\u001b[49m  \u001b[0m\u001b[7m  \u001b[0m\n",
            "\u001b[7m  \u001b[0m\u001b[49m  \u001b[0m\u001b[7m  \u001b[0m\u001b[49m  \u001b[0m\u001b[49m  \u001b[0m\u001b[49m  \u001b[0m\u001b[7m  \u001b[0m\u001b[49m  \u001b[0m\u001b[7m  \u001b[0m\u001b[49m  \u001b[0m\u001b[49m  \u001b[0m\u001b[49m  \u001b[0m\u001b[7m  \u001b[0m\u001b[49m  \u001b[0m\u001b[7m  \u001b[0m\u001b[49m  \u001b[0m\u001b[49m  \u001b[0m\u001b[7m  \u001b[0m\u001b[7m  \u001b[0m\u001b[49m  \u001b[0m\u001b[7m  \u001b[0m\u001b[49m  \u001b[0m\u001b[49m  \u001b[0m\u001b[49m  \u001b[0m\u001b[7m  \u001b[0m\u001b[49m  \u001b[0m\u001b[7m  \u001b[0m\n",
            "\u001b[7m  \u001b[0m\u001b[49m  \u001b[0m\u001b[7m  \u001b[0m\u001b[7m  \u001b[0m\u001b[7m  \u001b[0m\u001b[7m  \u001b[0m\u001b[7m  \u001b[0m\u001b[49m  \u001b[0m\u001b[7m  \u001b[0m\u001b[49m  \u001b[0m\u001b[7m  \u001b[0m\u001b[49m  \u001b[0m\u001b[7m  \u001b[0m\u001b[49m  \u001b[0m\u001b[7m  \u001b[0m\u001b[7m  \u001b[0m\u001b[7m  \u001b[0m\u001b[49m  \u001b[0m\u001b[7m  \u001b[0m\u001b[49m  \u001b[0m\u001b[7m  \u001b[0m\u001b[7m  \u001b[0m\u001b[7m  \u001b[0m\u001b[7m  \u001b[0m\u001b[7m  \u001b[0m\u001b[49m  \u001b[0m\u001b[7m  \u001b[0m\n",
            "\u001b[7m  \u001b[0m\u001b[49m  \u001b[0m\u001b[49m  \u001b[0m\u001b[49m  \u001b[0m\u001b[49m  \u001b[0m\u001b[49m  \u001b[0m\u001b[49m  \u001b[0m\u001b[49m  \u001b[0m\u001b[7m  \u001b[0m\u001b[49m  \u001b[0m\u001b[7m  \u001b[0m\u001b[49m  \u001b[0m\u001b[7m  \u001b[0m\u001b[49m  \u001b[0m\u001b[7m  \u001b[0m\u001b[49m  \u001b[0m\u001b[7m  \u001b[0m\u001b[49m  \u001b[0m\u001b[7m  \u001b[0m\u001b[49m  \u001b[0m\u001b[49m  \u001b[0m\u001b[49m  \u001b[0m\u001b[49m  \u001b[0m\u001b[49m  \u001b[0m\u001b[49m  \u001b[0m\u001b[49m  \u001b[0m\u001b[7m  \u001b[0m\n",
            "\u001b[7m  \u001b[0m\u001b[7m  \u001b[0m\u001b[7m  \u001b[0m\u001b[7m  \u001b[0m\u001b[7m  \u001b[0m\u001b[7m  \u001b[0m\u001b[7m  \u001b[0m\u001b[7m  \u001b[0m\u001b[7m  \u001b[0m\u001b[49m  \u001b[0m\u001b[7m  \u001b[0m\u001b[49m  \u001b[0m\u001b[49m  \u001b[0m\u001b[7m  \u001b[0m\u001b[49m  \u001b[0m\u001b[7m  \u001b[0m\u001b[7m  \u001b[0m\u001b[49m  \u001b[0m\u001b[7m  \u001b[0m\u001b[7m  \u001b[0m\u001b[7m  \u001b[0m\u001b[7m  \u001b[0m\u001b[7m  \u001b[0m\u001b[7m  \u001b[0m\u001b[7m  \u001b[0m\u001b[7m  \u001b[0m\u001b[7m  \u001b[0m\n",
            "\u001b[7m  \u001b[0m\u001b[49m  \u001b[0m\u001b[49m  \u001b[0m\u001b[7m  \u001b[0m\u001b[49m  \u001b[0m\u001b[7m  \u001b[0m\u001b[7m  \u001b[0m\u001b[49m  \u001b[0m\u001b[49m  \u001b[0m\u001b[7m  \u001b[0m\u001b[7m  \u001b[0m\u001b[7m  \u001b[0m\u001b[49m  \u001b[0m\u001b[49m  \u001b[0m\u001b[49m  \u001b[0m\u001b[49m  \u001b[0m\u001b[49m  \u001b[0m\u001b[7m  \u001b[0m\u001b[7m  \u001b[0m\u001b[49m  \u001b[0m\u001b[49m  \u001b[0m\u001b[49m  \u001b[0m\u001b[7m  \u001b[0m\u001b[49m  \u001b[0m\u001b[49m  \u001b[0m\u001b[7m  \u001b[0m\u001b[7m  \u001b[0m\n",
            "\u001b[7m  \u001b[0m\u001b[49m  \u001b[0m\u001b[7m  \u001b[0m\u001b[49m  \u001b[0m\u001b[49m  \u001b[0m\u001b[49m  \u001b[0m\u001b[7m  \u001b[0m\u001b[7m  \u001b[0m\u001b[49m  \u001b[0m\u001b[7m  \u001b[0m\u001b[49m  \u001b[0m\u001b[7m  \u001b[0m\u001b[49m  \u001b[0m\u001b[49m  \u001b[0m\u001b[7m  \u001b[0m\u001b[7m  \u001b[0m\u001b[7m  \u001b[0m\u001b[49m  \u001b[0m\u001b[49m  \u001b[0m\u001b[7m  \u001b[0m\u001b[7m  \u001b[0m\u001b[49m  \u001b[0m\u001b[7m  \u001b[0m\u001b[7m  \u001b[0m\u001b[49m  \u001b[0m\u001b[49m  \u001b[0m\u001b[7m  \u001b[0m\n",
            "\u001b[7m  \u001b[0m\u001b[49m  \u001b[0m\u001b[7m  \u001b[0m\u001b[49m  \u001b[0m\u001b[7m  \u001b[0m\u001b[7m  \u001b[0m\u001b[49m  \u001b[0m\u001b[49m  \u001b[0m\u001b[49m  \u001b[0m\u001b[49m  \u001b[0m\u001b[7m  \u001b[0m\u001b[7m  \u001b[0m\u001b[49m  \u001b[0m\u001b[49m  \u001b[0m\u001b[49m  \u001b[0m\u001b[7m  \u001b[0m\u001b[7m  \u001b[0m\u001b[49m  \u001b[0m\u001b[7m  \u001b[0m\u001b[49m  \u001b[0m\u001b[7m  \u001b[0m\u001b[49m  \u001b[0m\u001b[49m  \u001b[0m\u001b[7m  \u001b[0m\u001b[49m  \u001b[0m\u001b[49m  \u001b[0m\u001b[7m  \u001b[0m\n",
            "\u001b[7m  \u001b[0m\u001b[7m  \u001b[0m\u001b[7m  \u001b[0m\u001b[49m  \u001b[0m\u001b[49m  \u001b[0m\u001b[49m  \u001b[0m\u001b[7m  \u001b[0m\u001b[7m  \u001b[0m\u001b[49m  \u001b[0m\u001b[7m  \u001b[0m\u001b[49m  \u001b[0m\u001b[49m  \u001b[0m\u001b[49m  \u001b[0m\u001b[49m  \u001b[0m\u001b[7m  \u001b[0m\u001b[49m  \u001b[0m\u001b[49m  \u001b[0m\u001b[7m  \u001b[0m\u001b[7m  \u001b[0m\u001b[7m  \u001b[0m\u001b[7m  \u001b[0m\u001b[49m  \u001b[0m\u001b[7m  \u001b[0m\u001b[7m  \u001b[0m\u001b[7m  \u001b[0m\u001b[49m  \u001b[0m\u001b[7m  \u001b[0m\n",
            "\u001b[7m  \u001b[0m\u001b[49m  \u001b[0m\u001b[49m  \u001b[0m\u001b[49m  \u001b[0m\u001b[49m  \u001b[0m\u001b[7m  \u001b[0m\u001b[49m  \u001b[0m\u001b[49m  \u001b[0m\u001b[7m  \u001b[0m\u001b[49m  \u001b[0m\u001b[7m  \u001b[0m\u001b[49m  \u001b[0m\u001b[49m  \u001b[0m\u001b[7m  \u001b[0m\u001b[49m  \u001b[0m\u001b[7m  \u001b[0m\u001b[7m  \u001b[0m\u001b[7m  \u001b[0m\u001b[7m  \u001b[0m\u001b[49m  \u001b[0m\u001b[7m  \u001b[0m\u001b[7m  \u001b[0m\u001b[7m  \u001b[0m\u001b[49m  \u001b[0m\u001b[7m  \u001b[0m\u001b[7m  \u001b[0m\u001b[7m  \u001b[0m\n",
            "\u001b[7m  \u001b[0m\u001b[7m  \u001b[0m\u001b[7m  \u001b[0m\u001b[49m  \u001b[0m\u001b[7m  \u001b[0m\u001b[7m  \u001b[0m\u001b[49m  \u001b[0m\u001b[7m  \u001b[0m\u001b[49m  \u001b[0m\u001b[7m  \u001b[0m\u001b[49m  \u001b[0m\u001b[7m  \u001b[0m\u001b[49m  \u001b[0m\u001b[7m  \u001b[0m\u001b[7m  \u001b[0m\u001b[7m  \u001b[0m\u001b[7m  \u001b[0m\u001b[7m  \u001b[0m\u001b[7m  \u001b[0m\u001b[7m  \u001b[0m\u001b[7m  \u001b[0m\u001b[49m  \u001b[0m\u001b[7m  \u001b[0m\u001b[49m  \u001b[0m\u001b[49m  \u001b[0m\u001b[49m  \u001b[0m\u001b[7m  \u001b[0m\n",
            "\u001b[7m  \u001b[0m\u001b[49m  \u001b[0m\u001b[7m  \u001b[0m\u001b[49m  \u001b[0m\u001b[49m  \u001b[0m\u001b[7m  \u001b[0m\u001b[7m  \u001b[0m\u001b[49m  \u001b[0m\u001b[7m  \u001b[0m\u001b[7m  \u001b[0m\u001b[7m  \u001b[0m\u001b[49m  \u001b[0m\u001b[49m  \u001b[0m\u001b[7m  \u001b[0m\u001b[7m  \u001b[0m\u001b[49m  \u001b[0m\u001b[7m  \u001b[0m\u001b[49m  \u001b[0m\u001b[49m  \u001b[0m\u001b[7m  \u001b[0m\u001b[49m  \u001b[0m\u001b[7m  \u001b[0m\u001b[7m  \u001b[0m\u001b[7m  \u001b[0m\u001b[49m  \u001b[0m\u001b[7m  \u001b[0m\u001b[7m  \u001b[0m\n",
            "\u001b[7m  \u001b[0m\u001b[7m  \u001b[0m\u001b[49m  \u001b[0m\u001b[7m  \u001b[0m\u001b[7m  \u001b[0m\u001b[49m  \u001b[0m\u001b[49m  \u001b[0m\u001b[7m  \u001b[0m\u001b[7m  \u001b[0m\u001b[7m  \u001b[0m\u001b[7m  \u001b[0m\u001b[7m  \u001b[0m\u001b[49m  \u001b[0m\u001b[7m  \u001b[0m\u001b[7m  \u001b[0m\u001b[7m  \u001b[0m\u001b[49m  \u001b[0m\u001b[7m  \u001b[0m\u001b[7m  \u001b[0m\u001b[49m  \u001b[0m\u001b[7m  \u001b[0m\u001b[49m  \u001b[0m\u001b[49m  \u001b[0m\u001b[7m  \u001b[0m\u001b[7m  \u001b[0m\u001b[7m  \u001b[0m\u001b[7m  \u001b[0m\n",
            "\u001b[7m  \u001b[0m\u001b[49m  \u001b[0m\u001b[49m  \u001b[0m\u001b[49m  \u001b[0m\u001b[49m  \u001b[0m\u001b[49m  \u001b[0m\u001b[49m  \u001b[0m\u001b[49m  \u001b[0m\u001b[49m  \u001b[0m\u001b[7m  \u001b[0m\u001b[49m  \u001b[0m\u001b[49m  \u001b[0m\u001b[7m  \u001b[0m\u001b[49m  \u001b[0m\u001b[7m  \u001b[0m\u001b[7m  \u001b[0m\u001b[7m  \u001b[0m\u001b[49m  \u001b[0m\u001b[49m  \u001b[0m\u001b[49m  \u001b[0m\u001b[49m  \u001b[0m\u001b[49m  \u001b[0m\u001b[49m  \u001b[0m\u001b[49m  \u001b[0m\u001b[7m  \u001b[0m\u001b[49m  \u001b[0m\u001b[7m  \u001b[0m\n",
            "\u001b[7m  \u001b[0m\u001b[7m  \u001b[0m\u001b[7m  \u001b[0m\u001b[7m  \u001b[0m\u001b[7m  \u001b[0m\u001b[7m  \u001b[0m\u001b[7m  \u001b[0m\u001b[7m  \u001b[0m\u001b[7m  \u001b[0m\u001b[49m  \u001b[0m\u001b[49m  \u001b[0m\u001b[7m  \u001b[0m\u001b[7m  \u001b[0m\u001b[49m  \u001b[0m\u001b[49m  \u001b[0m\u001b[49m  \u001b[0m\u001b[7m  \u001b[0m\u001b[49m  \u001b[0m\u001b[7m  \u001b[0m\u001b[7m  \u001b[0m\u001b[7m  \u001b[0m\u001b[49m  \u001b[0m\u001b[7m  \u001b[0m\u001b[49m  \u001b[0m\u001b[49m  \u001b[0m\u001b[49m  \u001b[0m\u001b[7m  \u001b[0m\n",
            "\u001b[7m  \u001b[0m\u001b[49m  \u001b[0m\u001b[49m  \u001b[0m\u001b[49m  \u001b[0m\u001b[49m  \u001b[0m\u001b[49m  \u001b[0m\u001b[49m  \u001b[0m\u001b[49m  \u001b[0m\u001b[7m  \u001b[0m\u001b[49m  \u001b[0m\u001b[7m  \u001b[0m\u001b[7m  \u001b[0m\u001b[49m  \u001b[0m\u001b[49m  \u001b[0m\u001b[7m  \u001b[0m\u001b[49m  \u001b[0m\u001b[7m  \u001b[0m\u001b[49m  \u001b[0m\u001b[7m  \u001b[0m\u001b[49m  \u001b[0m\u001b[7m  \u001b[0m\u001b[49m  \u001b[0m\u001b[49m  \u001b[0m\u001b[49m  \u001b[0m\u001b[7m  \u001b[0m\u001b[7m  \u001b[0m\u001b[7m  \u001b[0m\n",
            "\u001b[7m  \u001b[0m\u001b[49m  \u001b[0m\u001b[7m  \u001b[0m\u001b[7m  \u001b[0m\u001b[7m  \u001b[0m\u001b[7m  \u001b[0m\u001b[7m  \u001b[0m\u001b[49m  \u001b[0m\u001b[7m  \u001b[0m\u001b[7m  \u001b[0m\u001b[49m  \u001b[0m\u001b[49m  \u001b[0m\u001b[7m  \u001b[0m\u001b[49m  \u001b[0m\u001b[7m  \u001b[0m\u001b[7m  \u001b[0m\u001b[7m  \u001b[0m\u001b[49m  \u001b[0m\u001b[7m  \u001b[0m\u001b[7m  \u001b[0m\u001b[7m  \u001b[0m\u001b[49m  \u001b[0m\u001b[7m  \u001b[0m\u001b[7m  \u001b[0m\u001b[7m  \u001b[0m\u001b[49m  \u001b[0m\u001b[7m  \u001b[0m\n",
            "\u001b[7m  \u001b[0m\u001b[49m  \u001b[0m\u001b[7m  \u001b[0m\u001b[49m  \u001b[0m\u001b[49m  \u001b[0m\u001b[49m  \u001b[0m\u001b[7m  \u001b[0m\u001b[49m  \u001b[0m\u001b[7m  \u001b[0m\u001b[7m  \u001b[0m\u001b[7m  \u001b[0m\u001b[7m  \u001b[0m\u001b[7m  \u001b[0m\u001b[7m  \u001b[0m\u001b[7m  \u001b[0m\u001b[7m  \u001b[0m\u001b[49m  \u001b[0m\u001b[49m  \u001b[0m\u001b[49m  \u001b[0m\u001b[49m  \u001b[0m\u001b[49m  \u001b[0m\u001b[49m  \u001b[0m\u001b[49m  \u001b[0m\u001b[49m  \u001b[0m\u001b[7m  \u001b[0m\u001b[7m  \u001b[0m\u001b[7m  \u001b[0m\n",
            "\u001b[7m  \u001b[0m\u001b[49m  \u001b[0m\u001b[7m  \u001b[0m\u001b[49m  \u001b[0m\u001b[49m  \u001b[0m\u001b[49m  \u001b[0m\u001b[7m  \u001b[0m\u001b[49m  \u001b[0m\u001b[7m  \u001b[0m\u001b[49m  \u001b[0m\u001b[7m  \u001b[0m\u001b[7m  \u001b[0m\u001b[49m  \u001b[0m\u001b[7m  \u001b[0m\u001b[7m  \u001b[0m\u001b[7m  \u001b[0m\u001b[7m  \u001b[0m\u001b[7m  \u001b[0m\u001b[49m  \u001b[0m\u001b[7m  \u001b[0m\u001b[7m  \u001b[0m\u001b[7m  \u001b[0m\u001b[49m  \u001b[0m\u001b[7m  \u001b[0m\u001b[49m  \u001b[0m\u001b[7m  \u001b[0m\u001b[7m  \u001b[0m\n",
            "\u001b[7m  \u001b[0m\u001b[49m  \u001b[0m\u001b[7m  \u001b[0m\u001b[49m  \u001b[0m\u001b[49m  \u001b[0m\u001b[49m  \u001b[0m\u001b[7m  \u001b[0m\u001b[49m  \u001b[0m\u001b[7m  \u001b[0m\u001b[7m  \u001b[0m\u001b[7m  \u001b[0m\u001b[49m  \u001b[0m\u001b[7m  \u001b[0m\u001b[7m  \u001b[0m\u001b[7m  \u001b[0m\u001b[7m  \u001b[0m\u001b[7m  \u001b[0m\u001b[7m  \u001b[0m\u001b[49m  \u001b[0m\u001b[49m  \u001b[0m\u001b[49m  \u001b[0m\u001b[49m  \u001b[0m\u001b[49m  \u001b[0m\u001b[7m  \u001b[0m\u001b[7m  \u001b[0m\u001b[49m  \u001b[0m\u001b[7m  \u001b[0m\n",
            "\u001b[7m  \u001b[0m\u001b[49m  \u001b[0m\u001b[7m  \u001b[0m\u001b[7m  \u001b[0m\u001b[7m  \u001b[0m\u001b[7m  \u001b[0m\u001b[7m  \u001b[0m\u001b[49m  \u001b[0m\u001b[7m  \u001b[0m\u001b[49m  \u001b[0m\u001b[49m  \u001b[0m\u001b[7m  \u001b[0m\u001b[7m  \u001b[0m\u001b[7m  \u001b[0m\u001b[7m  \u001b[0m\u001b[49m  \u001b[0m\u001b[7m  \u001b[0m\u001b[7m  \u001b[0m\u001b[49m  \u001b[0m\u001b[49m  \u001b[0m\u001b[7m  \u001b[0m\u001b[7m  \u001b[0m\u001b[7m  \u001b[0m\u001b[49m  \u001b[0m\u001b[7m  \u001b[0m\u001b[49m  \u001b[0m\u001b[7m  \u001b[0m\n",
            "\u001b[7m  \u001b[0m\u001b[49m  \u001b[0m\u001b[49m  \u001b[0m\u001b[49m  \u001b[0m\u001b[49m  \u001b[0m\u001b[49m  \u001b[0m\u001b[49m  \u001b[0m\u001b[49m  \u001b[0m\u001b[7m  \u001b[0m\u001b[49m  \u001b[0m\u001b[7m  \u001b[0m\u001b[49m  \u001b[0m\u001b[7m  \u001b[0m\u001b[49m  \u001b[0m\u001b[7m  \u001b[0m\u001b[7m  \u001b[0m\u001b[49m  \u001b[0m\u001b[7m  \u001b[0m\u001b[7m  \u001b[0m\u001b[49m  \u001b[0m\u001b[7m  \u001b[0m\u001b[49m  \u001b[0m\u001b[7m  \u001b[0m\u001b[49m  \u001b[0m\u001b[7m  \u001b[0m\u001b[49m  \u001b[0m\u001b[7m  \u001b[0m\n",
            "\u001b[7m  \u001b[0m\u001b[7m  \u001b[0m\u001b[7m  \u001b[0m\u001b[7m  \u001b[0m\u001b[7m  \u001b[0m\u001b[7m  \u001b[0m\u001b[7m  \u001b[0m\u001b[7m  \u001b[0m\u001b[7m  \u001b[0m\u001b[7m  \u001b[0m\u001b[7m  \u001b[0m\u001b[7m  \u001b[0m\u001b[7m  \u001b[0m\u001b[7m  \u001b[0m\u001b[7m  \u001b[0m\u001b[7m  \u001b[0m\u001b[7m  \u001b[0m\u001b[7m  \u001b[0m\u001b[7m  \u001b[0m\u001b[7m  \u001b[0m\u001b[7m  \u001b[0m\u001b[7m  \u001b[0m\u001b[7m  \u001b[0m\u001b[7m  \u001b[0m\u001b[7m  \u001b[0m\u001b[7m  \u001b[0m\u001b[7m  \u001b[0m\n",
            "\n",
            "connect_to localhost port 8000: failed.\n",
            "connect_to localhost port 8000: failed.\n"
          ]
        }
      ]
    }
  ]
}